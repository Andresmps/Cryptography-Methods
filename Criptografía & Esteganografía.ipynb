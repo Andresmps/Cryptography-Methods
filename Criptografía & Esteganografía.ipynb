{
 "cells": [
  {
   "cell_type": "markdown",
   "metadata": {
    "id": "-C3q8RvtVEm7"
   },
   "source": [
    "# Criptografía"
   ]
  },
  {
   "cell_type": "markdown",
   "metadata": {
    "id": "vkQrBz44VXrG"
   },
   "source": [
    "## Sustitución monoalfabetica (Solo alfabeto, minúscula y sin tilde)"
   ]
  },
  {
   "cell_type": "markdown",
   "metadata": {},
   "source": [
    "### Congruencia lineal\n",
    "\n",
    "$$C = a \\cdot M + b \\mod N, \\ \\ \\ a \\in \\phi(N), \\ \\ 0 \\leq b < 27$$\n",
    "\n",
    "[Totient function values](http://primefan.tripod.com/Phi500.html)"
   ]
  },
  {
   "cell_type": "markdown",
   "metadata": {},
   "source": [
    "Con $$a = 1, b = 13$$"
   ]
  },
  {
   "cell_type": "code",
   "execution_count": 1,
   "metadata": {},
   "outputs": [
    {
     "data": {
      "text/html": [
       "<img src='https://4.bp.blogspot.com/_M52ukk48Qag/S89ZE8ZjmHI/AAAAAAAAAFI/mmvwKfrehcg/s1600/Dibujo.bmp'>\n"
      ],
      "text/plain": [
       "<IPython.core.display.HTML object>"
      ]
     },
     "metadata": {},
     "output_type": "display_data"
    }
   ],
   "source": [
    "%%html\n",
    "<img src='https://4.bp.blogspot.com/_M52ukk48Qag/S89ZE8ZjmHI/AAAAAAAAAFI/mmvwKfrehcg/s1600/Dibujo.bmp'>"
   ]
  },
  {
   "cell_type": "code",
   "execution_count": 2,
   "metadata": {
    "id": "-wl3rCmRuCPi"
   },
   "outputs": [],
   "source": [
    "import string\n",
    "\n",
    "from unidecode import unidecode\n",
    "\n",
    "letters = list(string.ascii_letters[:14] + 'ñ' + string.ascii_letters[14:26])\n",
    "total_of_letters = len(letters)\n",
    "numbers = [i for i in range(total_of_letters)]\n",
    "letters_to_numbers = dict(zip(letters, numbers))\n",
    "numbers_to_letters = dict(zip(numbers, letters))\n",
    "\n",
    "\n",
    "def gcde(a, b):\n",
    "    if a == 0:\n",
    "        return (b, 0, 1)\n",
    "    else:\n",
    "        g, y, x = gcde(b % a, a)\n",
    "        return (g, x - (b // a) * y, y)\n",
    "\n",
    "\n",
    "def modinv(a, mod):\n",
    "    g, x, y = gcde(a, mod)\n",
    "    if g != 1:\n",
    "        return 0\n",
    "    else:\n",
    "        return x % mod\n",
    "\n",
    "    \n",
    "def plain_text_to_numbers(*, plain_text):\n",
    "    plain_text = unidecode(plain_text).lower()\n",
    "    plain_text_to_numbers = [letters_to_numbers.get(character_, character_)\n",
    "                             if character_ in letters else character_\n",
    "                             for character_ in list(plain_text)]\n",
    "    return plain_text_to_numbers\n",
    "\n",
    "\n",
    "def encrypt_plain_text(*, plain_text, a, b):\n",
    "    plain_text = unidecode(plain_text).lower()\n",
    "    plain_text_to_numbers = [str( (a * letters_to_numbers.get(character_, character_) +\n",
    "                                      b) % total_of_letters )\n",
    "                                    if character_ in letters else character_\n",
    "                                    for character_ in list(plain_text)]\n",
    "    cryptogram = \"\".join([numbers_to_letters.get(int(character_), character_)\n",
    "                         if character_.isnumeric() else character_\n",
    "                         for character_ in list(plain_text_to_numbers)])\n",
    "    return plain_text_to_numbers, cryptogram\n",
    "\n",
    "\n",
    "def desencrypt_cryptogram(*, cryptogram, a, b):\n",
    "    cryptogram_to_numbers = [str(((letters_to_numbers.get(character_, character_) - b) *\n",
    "                                  modinv(a, total_of_letters) % total_of_letters))\n",
    "                                    if character_ in letters else character_ \n",
    "                                    for character_ in list(cryptogram)]\n",
    "    plain_text = \"\".join([numbers_to_letters.get(int(character_), character_)\n",
    "                         if character_.isnumeric() else character_\n",
    "                         for character_ in list(cryptogram_to_numbers)])\n",
    "    return cryptogram_to_numbers, plain_text"
   ]
  },
  {
   "cell_type": "markdown",
   "metadata": {},
   "source": [
    "#### Mensaje"
   ]
  },
  {
   "cell_type": "code",
   "execution_count": 3,
   "metadata": {},
   "outputs": [],
   "source": [
    "texto = 'Hola mundó.'"
   ]
  },
  {
   "cell_type": "code",
   "execution_count": 4,
   "metadata": {},
   "outputs": [
    {
     "data": {
      "text/plain": [
       "[7, 15, 11, 0, ' ', 12, 21, 13, 3, 15, '.']"
      ]
     },
     "execution_count": 4,
     "metadata": {},
     "output_type": "execute_result"
    }
   ],
   "source": [
    "texto_a_numeros = plain_text_to_numbers(plain_text=texto)\n",
    "texto_a_numeros"
   ]
  },
  {
   "cell_type": "markdown",
   "metadata": {
    "id": "ytjy8CrRRCRb"
   },
   "source": [
    "#### Encriptar un mensaje"
   ]
  },
  {
   "cell_type": "code",
   "execution_count": 5,
   "metadata": {
    "colab": {
     "base_uri": "https://localhost:8080/",
     "height": 34
    },
    "id": "-eQdioi2QBxF",
    "outputId": "ba52f8ce-a2cb-4715-fc67-b0835da33f79"
   },
   "outputs": [
    {
     "data": {
      "text/plain": [
       "(['17', '6', '25', '3', ' ', '0', '18', '2', '9', '6', '.'], 'qgyd arcjg.')"
      ]
     },
     "execution_count": 5,
     "metadata": {},
     "output_type": "execute_result"
    }
   ],
   "source": [
    "criptograma = encrypt_plain_text(plain_text=texto, a=2, b=3)\n",
    "criptograma"
   ]
  },
  {
   "cell_type": "markdown",
   "metadata": {
    "id": "6UFKT8CJVNtk"
   },
   "source": [
    "#### Desencriptar un mensaje con la congruencia lineal"
   ]
  },
  {
   "cell_type": "code",
   "execution_count": 6,
   "metadata": {
    "colab": {
     "base_uri": "https://localhost:8080/",
     "height": 34
    },
    "id": "_SvrtugIIN5l",
    "outputId": "42719528-e5a1-4328-aa4e-404ba48ab7e1"
   },
   "outputs": [
    {
     "data": {
      "text/plain": [
       "(['7', '15', '11', '0', ' ', '12', '21', '13', '3', '15', '.'], 'hola mundo.')"
      ]
     },
     "execution_count": 6,
     "metadata": {},
     "output_type": "execute_result"
    }
   ],
   "source": [
    "texto_plano = desencrypt_cryptogram(cryptogram=criptograma[1], a=2, b=3)\n",
    "texto_plano"
   ]
  },
  {
   "cell_type": "markdown",
   "metadata": {},
   "source": [
    "## Sustitución monoalfabetica (Todos los caracteres, sin tildes)\n",
    "### Congruencia lineal considerando los caracteres de la tabla ASCII\n",
    "\n",
    "$$C = a \\cdot M + b \\mod N, \\ \\ \\ a \\in \\phi(N), \\ \\ 32 \\leq b < 127$$\n",
    "[Tabla ASCII](https://elcodigoascii.com.ar/)"
   ]
  },
  {
   "cell_type": "code",
   "execution_count": 7,
   "metadata": {},
   "outputs": [
    {
     "name": "stdout",
     "output_type": "stream",
     "text": [
      "N=95\n"
     ]
    }
   ],
   "source": [
    "N = 127-32\n",
    "print(f\"N={N}\")\n",
    "\n",
    "\n",
    "def word_to_num(word):\n",
    "    return [chr_to_num(i) for i in word]\n",
    "\n",
    "\n",
    "def num_to_word(number):\n",
    "    return \"\".join(num_to_chr(i) for i in number)\n",
    "\n",
    "\n",
    "def chr_to_num(chr_):\n",
    "    return ord(chr_) - 32\n",
    "\n",
    "\n",
    "def num_to_chr(number):\n",
    "    return chr(number + 32)\n",
    "    \n",
    "\n",
    "def encrypt_plain_text_2(plain_text, a, b):\n",
    "    plain_text = unidecode(plain_text)\n",
    "    cryptogram = \"\".join([num_to_chr((chr_to_num(character_) * a + b) % N)\n",
    "                         for character_ in list(plain_text)])\n",
    "    return cryptogram\n",
    "\n",
    "\n",
    "def desencrypt_cryptogram_2(plain_text, a, b):\n",
    "    cryptogram = \"\".join([num_to_chr(((chr_to_num(character_) - b) * modinv(a, N)) % N)\n",
    "                         for character_ in list(plain_text)])\n",
    "    return cryptogram"
   ]
  },
  {
   "cell_type": "markdown",
   "metadata": {},
   "source": [
    "#### Mensaje"
   ]
  },
  {
   "cell_type": "code",
   "execution_count": 8,
   "metadata": {},
   "outputs": [],
   "source": [
    "texto = 'Hola mundó.'"
   ]
  },
  {
   "cell_type": "code",
   "execution_count": 9,
   "metadata": {},
   "outputs": [
    {
     "data": {
      "text/plain": [
       "[40, 79, 76, 65, 0, 77, 85, 78, 68, 211, 14]"
      ]
     },
     "execution_count": 9,
     "metadata": {},
     "output_type": "execute_result"
    }
   ],
   "source": [
    "word_to_num(texto)"
   ]
  },
  {
   "cell_type": "markdown",
   "metadata": {},
   "source": [
    "#### Encriptar un mensaje"
   ]
  },
  {
   "cell_type": "code",
   "execution_count": 10,
   "metadata": {},
   "outputs": [
    {
     "data": {
      "text/plain": [
       "'Krod#pxqgr1'"
      ]
     },
     "execution_count": 10,
     "metadata": {},
     "output_type": "execute_result"
    }
   ],
   "source": [
    "criptograma = encrypt_plain_text_2(plain_text=texto, a=1, b=3)\n",
    "criptograma"
   ]
  },
  {
   "cell_type": "markdown",
   "metadata": {},
   "source": [
    "#### Desencriptar un mensaje con la congruencia lineal"
   ]
  },
  {
   "cell_type": "code",
   "execution_count": 11,
   "metadata": {},
   "outputs": [
    {
     "data": {
      "text/plain": [
       "'Hola mundo.'"
      ]
     },
     "execution_count": 11,
     "metadata": {},
     "output_type": "execute_result"
    }
   ],
   "source": [
    "desencrypt_cryptogram_2(plain_text=criptograma, a=1, b=3)"
   ]
  },
  {
   "cell_type": "code",
   "execution_count": 12,
   "metadata": {},
   "outputs": [],
   "source": [
    "# for i in range(127):\n",
    "#     print(f\"{i-32} --> {chr(i)} --> {format(i, '08b')}\")"
   ]
  },
  {
   "cell_type": "code",
   "execution_count": null,
   "metadata": {},
   "outputs": [],
   "source": []
  },
  {
   "cell_type": "markdown",
   "metadata": {
    "id": "DkztNL1fRlrX"
   },
   "source": [
    "## Análisis de Frecuencias"
   ]
  },
  {
   "cell_type": "code",
   "execution_count": 13,
   "metadata": {
    "id": "tRXCpBuaKsiL"
   },
   "outputs": [],
   "source": [
    "import itertools as iter\n",
    "import matplotlib.pyplot as plt\n",
    "\n",
    "from collections import Counter"
   ]
  },
  {
   "cell_type": "code",
   "execution_count": 14,
   "metadata": {
    "id": "0He1Sg37U4Rn"
   },
   "outputs": [],
   "source": [
    "def try_swap(criptogram, letters_to_swap, possible_change):\n",
    "    permutations = [x for x in iter.permutations(possible_change)]\n",
    "    print(criptogram)\n",
    "    print(permutations)\n",
    "    criptograms = []\n",
    "    for possible_change_ in permutations:\n",
    "        criptogram_ = criptogram\n",
    "        for i in range(len(letters_to_swap)):    \n",
    "            criptogram_ = criptogram_.replace(letters_to_swap[i], possible_change[i])\n",
    "            print(f\"Replace: [{letters_to_swap[i]}] --> [{possible_change_[i]}]\")\n",
    "        criptograms.append(criptogram_)\n",
    "        print(f\"{criptogram_}\\n\")\n",
    "    return criptograms"
   ]
  },
  {
   "cell_type": "code",
   "execution_count": 15,
   "metadata": {
    "colab": {
     "base_uri": "https://localhost:8080/",
     "height": 306
    },
    "id": "HJHDech6Utlu",
    "outputId": "e2accc4f-9321-4f28-bb39-87eb28d1fb6d"
   },
   "outputs": [
    {
     "data": {
      "text/html": [
       "<img src='https://espanolaldia.files.wordpress.com/2014/03/frecuencia-de-uso-de-las-letras-en-espac3b1ol.png?w=640'>\n"
      ],
      "text/plain": [
       "<IPython.core.display.HTML object>"
      ]
     },
     "metadata": {},
     "output_type": "display_data"
    }
   ],
   "source": [
    "%%html\n",
    "<img src='https://espanolaldia.files.wordpress.com/2014/03/frecuencia-de-uso-de-las-letras-en-espac3b1ol.png?w=640'>"
   ]
  },
  {
   "cell_type": "markdown",
   "metadata": {
    "id": "8Oeqo9uzVg-4"
   },
   "source": [
    "### Ver frecuencia de letras en un texto"
   ]
  },
  {
   "cell_type": "code",
   "execution_count": 16,
   "metadata": {},
   "outputs": [],
   "source": [
    "#@title\n",
    "# Mensaje: mira el horizonte de alesia y al tercer dia en la madruga llegaran las tropas alidas que permitiran superar el numero de soldados de mario y nos dara victoria el cesar"
   ]
  },
  {
   "cell_type": "code",
   "execution_count": 17,
   "metadata": {
    "colab": {
     "base_uri": "https://localhost:8080/",
     "height": 386
    },
    "id": "AC0hlkHiXevO",
    "outputId": "b8e8e644-7b49-47ce-dca6-7d2a78ec5acf"
   },
   "outputs": [
    {
     "name": "stdout",
     "output_type": "stream",
     "text": [
      "[('Caracter', 'Frecuencia absoluta', 'Frecuentica relativa')]\n"
     ]
    },
    {
     "data": {
      "text/plain": [
       "[(' ', 30, 0.17964071856287425),\n",
       " ('d', 22, 0.1317365269461078),\n",
       " ('h', 17, 0.10179640718562874),\n",
       " ('u', 16, 0.09580838323353294),\n",
       " ('ñ', 11, 0.0658682634730539),\n",
       " ('l', 10, 0.059880239520958084),\n",
       " ('r', 9, 0.05389221556886228),\n",
       " ('g', 9, 0.05389221556886228),\n",
       " ('v', 9, 0.05389221556886228),\n",
       " ('p', 6, 0.03592814371257485),\n",
       " ('o', 5, 0.029940119760479042),\n",
       " ('w', 5, 0.029940119760479042),\n",
       " ('x', 4, 0.023952095808383235),\n",
       " ('f', 3, 0.017964071856287425),\n",
       " ('s', 3, 0.017964071856287425),\n",
       " ('b', 2, 0.011976047904191617),\n",
       " ('j', 2, 0.011976047904191617),\n",
       " ('k', 1, 0.005988023952095809),\n",
       " ('c', 1, 0.005988023952095809),\n",
       " ('t', 1, 0.005988023952095809),\n",
       " ('y', 1, 0.005988023952095809)]"
      ]
     },
     "execution_count": 17,
     "metadata": {},
     "output_type": "execute_result"
    }
   ],
   "source": [
    "criptograma = \"olud hñ krulcrpwh gh dñhvld b dñ whufhu gld hp ñd odguxjd ññhjdudp ñdv wursdv dñlgdv txh shuolwludp vxshudu hñ pxohur gh vrñgdgrv gh odulr b prv gdud ylfwruld hñ fhvdu\"\n",
    "print([('Caracter', 'Frecuencia absoluta', 'Frecuentica relativa')])\n",
    "frecuencia_del_criptograma = [(i[0], i[1], i[1]/len(criptograma)) for i in Counter(criptograma).most_common()]\n",
    "frecuencia_del_criptograma"
   ]
  },
  {
   "cell_type": "code",
   "execution_count": 18,
   "metadata": {},
   "outputs": [
    {
     "data": {
      "image/png": "[encoded data removed]",
      "text/plain": [
       "<Figure size 432x288 with 1 Axes>"
      ]
     },
     "metadata": {
      "needs_background": "light"
     },
     "output_type": "display_data"
    }
   ],
   "source": [
    "plt.title('Frecuencia del criptograma', fontsize=18)\n",
    "plt.bar([i[0] for i in frecuencia_del_criptograma],\n",
    "        [i[2] for i in frecuencia_del_criptograma])\n",
    "plt.xlabel('Letras')\n",
    "plt.ylabel('Frecuencia relativa')\n",
    "plt.grid()"
   ]
  },
  {
   "cell_type": "markdown",
   "metadata": {},
   "source": [
    "## Probar opciones de intercambio de letras"
   ]
  },
  {
   "cell_type": "code",
   "execution_count": 19,
   "metadata": {
    "colab": {
     "base_uri": "https://localhost:8080/",
     "height": 205
    },
    "id": "tvTSzog0VsA8",
    "outputId": "c9141e3e-5e14-44e7-ebbd-5f5b255ef9e6"
   },
   "outputs": [
    {
     "name": "stdout",
     "output_type": "stream",
     "text": [
      "olud hñ krulcrpwh gh dñhvld b dñ whufhu gld hp ñd odguxjd ññhjdudp ñdv wursdv dñlgdv txh shuolwludp vxshudu hñ pxohur gh vrñgdgrv gh odulr b prv gdud ylfwruld hñ fhvdu\n",
      "[('a', 'e'), ('e', 'a')]\n",
      "Replace: [d] --> [a]\n",
      "Replace: [h] --> [e]\n",
      "olua eñ krulcrpwe ge añevla b añ weufeu gla ep ña oaguxja ññejauap ñav wursav añlgav txe seuolwluap vxseuau eñ pxoeur ge vrñgagrv ge oaulr b prv gaua ylfwrula eñ fevau\n",
      "\n",
      "Replace: [d] --> [e]\n",
      "Replace: [h] --> [a]\n",
      "olua eñ krulcrpwe ge añevla b añ weufeu gla ep ña oaguxja ññejauap ñav wursav añlgav txe seuolwluap vxseuau eñ pxoeur ge vrñgagrv ge oaulr b prv gaua ylfwrula eñ fevau\n",
      "\n"
     ]
    }
   ],
   "source": [
    "ls_ = try_swap(criptogram=criptograma,\n",
    "               letters_to_swap=['d', 'h'],\n",
    "               possible_change=['a', 'e']) "
   ]
  },
  {
   "cell_type": "code",
   "execution_count": null,
   "metadata": {
    "cellView": "form",
    "id": "WdWIo6YgS6pg"
   },
   "outputs": [],
   "source": []
  },
  {
   "cell_type": "markdown",
   "metadata": {
    "id": "b01STvLiUDnf"
   },
   "source": [
    "## Esteganografia"
   ]
  },
  {
   "cell_type": "code",
   "execution_count": 20,
   "metadata": {
    "id": "eQbIFWtXZj_P"
   },
   "outputs": [],
   "source": [
    "# pip install stegano --user"
   ]
  },
  {
   "cell_type": "code",
   "execution_count": null,
   "metadata": {
    "id": "qPGUUAhwYkCL"
   },
   "outputs": [],
   "source": [
    "import matplotlib.pyplot as plt\n",
    "import skimage.io as sk\n",
    "import numpy as np\n",
    "\n",
    "from stegano import lsb\n",
    "from PIL import Image\n",
    "from matplotlib.pyplot import imshow\n",
    "from skimage import color"
   ]
  },
  {
   "cell_type": "code",
   "execution_count": null,
   "metadata": {},
   "outputs": [],
   "source": [
    "def RGB_to_gray(img, filename):\n",
    "\n",
    "    width, height = img.size\n",
    "    for i in range(width):\n",
    "        for j in range(height):\n",
    "            r, g, b = list(img.getpixel((i, j)))\n",
    "            pixel = int(r * 0.3 + g * 0.59 + b * 0.11)\n",
    "#             print(pixel)\n",
    "            img.putpixel((i, j), [pixel])\n",
    "    img.save(filename, \"PNG\")\n",
    "    \n",
    "\n",
    "def twoD_image(img):\n",
    "    width, height = img.size\n",
    "    A = np.zeros((width, height))\n",
    "    for i in range(width):\n",
    "        for j in range(height):\n",
    "            r, g, b = list(img.getpixel((i, j)))\n",
    "            A[i, j] = int(r * 0.3 + g * 0.59 + b * 0.11)\n",
    "    return A\n",
    "\n",
    "\n",
    "def threeD_image(matriz):\n",
    "    width, height = matriz.shape\n",
    "    img = Image.new('RGB', (width, height))\n",
    "    for i in range(width):\n",
    "        for j in range(height):\n",
    "            pixel = int(matriz[i, j])\n",
    "            img.putpixel((i, j), tuple([pixel, pixel, pixel]))\n",
    "    return img\n",
    "\n",
    "\n",
    "def tranform_mess_to_bin(message):\n",
    "    message = unidecode(message.replace(' ', '').lower())\n",
    "    print(message)\n",
    "    bin_mess = [format(letters_to_numbers.get(i, ''), '05b') for i in list(message)]\n",
    "    print(bin_mess)\n",
    "    return \"\".join(bin_mess)\n",
    "\n",
    "\n",
    "def insert_hidden_message(message, matrix):\n",
    "    i=0\n",
    "    data = tranform_mess_to_bin(message)\n",
    "    flag = False\n",
    "    width, height = matrix.shape\n",
    "    for x in range(0, width):\n",
    "        for y in range(0, height):\n",
    "            pixel = int(matrix[x, y])\n",
    "            if(i < len(data)):\n",
    "                print(f\"\\n{pixel} --> {pixel & ~1 | int(data[i])}\")\n",
    "                print(f\"{format(pixel, '08b')} --> {format(pixel & ~1, '08b')} | {format(int(data[i]), '08b')} --> {format(pixel & ~1 | int(data[i]), '08b')}\")\n",
    "                pixel = pixel & ~1 | int(data[i])\n",
    "                i+=1\n",
    "            else:\n",
    "                flag = True\n",
    "                break\n",
    "            matrix[x, y] = pixel\n",
    "        if flag: break\n",
    "    return matrix  \n",
    "      \n",
    "\n",
    "def extract_hidden_message(matrix):\n",
    "    extracted_bin = []\n",
    "    i=0\n",
    "    width, height = matrix.shape\n",
    "    for x in range(0, width):\n",
    "        for y in range(0, height):\n",
    "            pixel = int(matrix[x, y])\n",
    "            extracted_bin.append(pixel&1)\n",
    "    data_ = \"\".join([str(x) for x in extracted_bin])\n",
    "    result_lsb = [int(data_[i*5:(i+1)*5], 2) for i in range(len(data_)//5)]\n",
    "    resulting_message = \"\".join([numbers_to_letters.get(result_lsb[i]) \n",
    "                                 for i in range(len(result_lsb)) \n",
    "                                 if result_lsb[i] < total_of_letters])\n",
    "    return resulting_message[:200]"
   ]
  },
  {
   "cell_type": "code",
   "execution_count": null,
   "metadata": {},
   "outputs": [],
   "source": [
    "# filename_cat = 'gato.jpg'\n",
    "# cat_image = Image.open(filename_cat)#.convert('L')\n",
    "# RGB_to_gray(cat_image, 'gato_gray.png')"
   ]
  },
  {
   "cell_type": "markdown",
   "metadata": {
    "id": "zN4Hyoa1XU-_"
   },
   "source": [
    "### Least significant bit for images (LSB)\n",
    "LSB es un algoritmo esteganográfico que encuentra el bit menos significativo en algunos pixeles de la imagen los intercambia con una secuencia de bits presentes en el mensajes secreto."
   ]
  },
  {
   "cell_type": "code",
   "execution_count": null,
   "metadata": {},
   "outputs": [],
   "source": [
    "filename_cat = 'gato_gray.png'\n",
    "cat_image = Image.open(filename_cat)#.convert('L')\n",
    "cat_image"
   ]
  },
  {
   "cell_type": "code",
   "execution_count": null,
   "metadata": {},
   "outputs": [],
   "source": [
    "print(f\"Dimensiones de la imagen: {np.asarray(cat_image).shape}\")\n",
    "np.asarray(cat_image)[0]"
   ]
  },
  {
   "cell_type": "code",
   "execution_count": null,
   "metadata": {},
   "outputs": [],
   "source": [
    "twoD_image_ = twoD_image(cat_image)\n",
    "print(f\"Dimensiones de la imagen: {np.asarray(twoD_image_).shape}\")\n",
    "twoD_image_"
   ]
  },
  {
   "cell_type": "code",
   "execution_count": null,
   "metadata": {},
   "outputs": [],
   "source": []
  },
  {
   "cell_type": "code",
   "execution_count": null,
   "metadata": {
    "scrolled": true
   },
   "outputs": [],
   "source": [
    "texto = \"Los alemanes planean invadir Francia preparen las tropas en la ciudad de Sédan\"\n",
    "matriz_hidden_message = insert_hidden_message(message=texto,\n",
    "                                              matrix=twoD_image_)\n",
    "matriz_hidden_message"
   ]
  },
  {
   "cell_type": "code",
   "execution_count": null,
   "metadata": {},
   "outputs": [],
   "source": [
    "mensaje_resuelto = extract_hidden_message(matrix=matriz_hidden_message)\n",
    "mensaje_resuelto"
   ]
  },
  {
   "cell_type": "markdown",
   "metadata": {},
   "source": [
    "**Mesanje oculto:** Los alemanes planean invadir Francia preparen las tropas en la ciudad de Sédan"
   ]
  },
  {
   "cell_type": "code",
   "execution_count": null,
   "metadata": {},
   "outputs": [],
   "source": [
    "threeD_image_ = threeD_image(twoD_image_)\n",
    "threeD_image_"
   ]
  },
  {
   "cell_type": "markdown",
   "metadata": {},
   "source": [
    "### LSB en imágenes con matrices asociadas de 3D"
   ]
  },
  {
   "cell_type": "code",
   "execution_count": null,
   "metadata": {
    "colab": {
     "base_uri": "https://localhost:8080/",
     "height": 382
    },
    "id": "_27SbHoWRlqa",
    "outputId": "662b4c98-51f2-4a32-e6bd-16c39aa26860"
   },
   "outputs": [],
   "source": [
    "%%html\n",
    "<img src='https://miro.medium.com/max/700/1*HeqPeanxAKuHwFHIPev7nw.png'>"
   ]
  },
  {
   "cell_type": "code",
   "execution_count": null,
   "metadata": {
    "colab": {
     "base_uri": "https://localhost:8080/",
     "height": 456
    },
    "id": "GTahViJdXs8G",
    "outputId": "3ee4b944-0beb-4ba2-a2a7-5cab8cc79e1b"
   },
   "outputs": [],
   "source": [
    "%%html\n",
    "<img src='https://1.bp.blogspot.com/-5mF61sCPL8U/WfWfU8UGBjI/AAAAAAAAIKs/1LLUXJtUvaE-A66v468c6xCMpZXY0XEIwCLcBGAs/s1600/Esteganograf%25C3%25ADa_5.png'>"
   ]
  },
  {
   "cell_type": "code",
   "execution_count": null,
   "metadata": {
    "id": "hlstytjkPnrA"
   },
   "outputs": [],
   "source": [
    "filepath = \"mosters_inc_meme.png\"\n",
    "image = sk.imread(filepath)"
   ]
  },
  {
   "cell_type": "code",
   "execution_count": null,
   "metadata": {
    "id": "UtCH5GdL-EEd"
   },
   "outputs": [],
   "source": [
    "message = \"I will be there but you can't find me even if I'm a very very very long sentence\"\n",
    "secret = lsb.hide(filepath, message)\n",
    "fileoutput = \"source_secret.png\"\n",
    "secret.save(fileoutput)\n",
    "lsb.reveal(secret)"
   ]
  },
  {
   "cell_type": "code",
   "execution_count": null,
   "metadata": {
    "colab": {
     "base_uri": "https://localhost:8080/",
     "height": 287
    },
    "id": "f825ZGCpYwYH",
    "outputId": "268d2c0f-6236-4808-8cf6-1eb0b3b0e3cb"
   },
   "outputs": [],
   "source": [
    "img1 = sk.imread(filepath)\n",
    "img2 = sk.imread(fileoutput)\n",
    "\n",
    "fig,ax = plt.subplots(1,2,figsize=(18,8))\n",
    "    \n",
    "ax[0].imshow(img1)\n",
    "ax[1].imshow(img2)"
   ]
  },
  {
   "cell_type": "code",
   "execution_count": null,
   "metadata": {},
   "outputs": [],
   "source": []
  }
 ],
 "metadata": {
  "colab": {
   "name": "Cifrado_Cesar.ipynb",
   "provenance": [],
   "toc_visible": true
  },
  "kernelspec": {
   "display_name": "Python 3",
   "language": "python",
   "name": "python3"
  },
  "language_info": {
   "codemirror_mode": {
    "name": "ipython",
    "version": 3
   },
   "file_extension": ".py",
   "mimetype": "text/x-python",
   "name": "python",
   "nbconvert_exporter": "python",
   "pygments_lexer": "ipython3",
   "version": "3.8.2"
  }
 },
 "nbformat": 4,
 "nbformat_minor": 1
}
